{
 "cells": [
  {
   "cell_type": "code",
   "id": "initial_id",
   "metadata": {
    "collapsed": true,
    "ExecuteTime": {
     "end_time": "2025-09-15T13:24:11.371802Z",
     "start_time": "2025-09-15T13:24:08.737543Z"
    }
   },
   "source": [
    "# 从 tensorflow.keras 导入数据集和预处理模块\n",
    "from tensorflow.keras.datasets import imdb\n",
    "from tensorflow.keras import preprocessing\n",
    "\n",
    "max_features = 10000  # 只考虑最常出现的10000个单词\n",
    "maxlen = 20  # 每个评论只取前20个单词\n",
    "\n",
    "# 加载数据集\n",
    "(x_train, y_train), (x_test, y_test) = imdb.load_data(num_words=max_features)\n",
    "\n",
    "# 序列填充（确保每个序列长度为 maxlen）\n",
    "x_train = preprocessing.sequence.pad_sequences(x_train, maxlen=maxlen)\n",
    "x_test = preprocessing.sequence.pad_sequences(x_test, maxlen=maxlen)"
   ],
   "outputs": [],
   "execution_count": 4
  },
  {
   "metadata": {
    "ExecuteTime": {
     "end_time": "2025-09-15T13:30:19.941815Z",
     "start_time": "2025-09-15T13:30:05.159286Z"
    }
   },
   "cell_type": "code",
   "source": [
    "# 在IMDB数据集上使用词嵌入\n",
    "from tensorflow.keras.models import Sequential\n",
    "from tensorflow.keras.layers import Embedding, Flatten, Dense\n",
    "\n",
    "model = Sequential()\n",
    "# 指定Embedding层最大输出长度 以便后面将嵌入输入展平  激活的形状是samples, maxlen, 8\n",
    "model.add(Embedding(max_features, 8, input_length=maxlen))\n",
    "model.add(Flatten()) # 将三维的嵌入张量展平为形状是samples maxlen *8的二维张量\n",
    "model.add(Dense(1, activation= \"sigmoid\"))\n",
    "\n",
    "model.compile(optimizer=\"adam\", loss=\"binary_crossentropy\", metrics=[\"accuracy\"])\n",
    "\n",
    "history = model.fit(x_train, y_train, epochs=10, batch_size=32, validation_split=0.2)"
   ],
   "id": "a0cda556d5aa85d2",
   "outputs": [
    {
     "name": "stdout",
     "output_type": "stream",
     "text": [
      "Epoch 1/10\n",
      "625/625 [==============================] - 3s 2ms/step - loss: 0.6651 - accuracy: 0.6222 - val_loss: 0.5935 - val_accuracy: 0.7186\n",
      "Epoch 2/10\n",
      "625/625 [==============================] - 1s 2ms/step - loss: 0.4950 - accuracy: 0.7841 - val_loss: 0.5031 - val_accuracy: 0.7466\n",
      "Epoch 3/10\n",
      "625/625 [==============================] - 1s 2ms/step - loss: 0.3873 - accuracy: 0.8401 - val_loss: 0.4905 - val_accuracy: 0.7560\n",
      "Epoch 4/10\n",
      "625/625 [==============================] - 1s 2ms/step - loss: 0.3153 - accuracy: 0.8827 - val_loss: 0.4972 - val_accuracy: 0.7526\n",
      "Epoch 5/10\n",
      "625/625 [==============================] - 1s 2ms/step - loss: 0.2564 - accuracy: 0.9117 - val_loss: 0.5148 - val_accuracy: 0.7468\n",
      "Epoch 6/10\n",
      "625/625 [==============================] - 1s 2ms/step - loss: 0.2074 - accuracy: 0.9348 - val_loss: 0.5395 - val_accuracy: 0.7448\n",
      "Epoch 7/10\n",
      "625/625 [==============================] - 1s 2ms/step - loss: 0.1673 - accuracy: 0.9544 - val_loss: 0.5684 - val_accuracy: 0.7410\n",
      "Epoch 8/10\n",
      "625/625 [==============================] - 1s 2ms/step - loss: 0.1345 - accuracy: 0.9675 - val_loss: 0.6025 - val_accuracy: 0.7370\n",
      "Epoch 9/10\n",
      "625/625 [==============================] - 1s 2ms/step - loss: 0.1073 - accuracy: 0.9771 - val_loss: 0.6397 - val_accuracy: 0.7312\n",
      "Epoch 10/10\n",
      "625/625 [==============================] - 1s 2ms/step - loss: 0.0853 - accuracy: 0.9843 - val_loss: 0.6820 - val_accuracy: 0.7300\n"
     ]
    }
   ],
   "execution_count": 5
  },
  {
   "metadata": {},
   "cell_type": "code",
   "outputs": [],
   "execution_count": null,
   "source": "",
   "id": "59f3ba44ddeba780"
  }
 ],
 "metadata": {
  "kernelspec": {
   "display_name": "Python 3",
   "language": "python",
   "name": "python3"
  },
  "language_info": {
   "codemirror_mode": {
    "name": "ipython",
    "version": 2
   },
   "file_extension": ".py",
   "mimetype": "text/x-python",
   "name": "python",
   "nbconvert_exporter": "python",
   "pygments_lexer": "ipython2",
   "version": "2.7.6"
  }
 },
 "nbformat": 4,
 "nbformat_minor": 5
}
