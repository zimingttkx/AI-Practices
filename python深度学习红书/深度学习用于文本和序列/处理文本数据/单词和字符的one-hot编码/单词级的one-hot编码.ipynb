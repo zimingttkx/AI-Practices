{
 "cells": [
  {
   "cell_type": "code",
   "id": "initial_id",
   "metadata": {
    "collapsed": true,
    "ExecuteTime": {
     "end_time": "2025-09-15T12:43:05.619505Z",
     "start_time": "2025-09-15T12:43:05.480618Z"
    }
   },
   "source": [
    "import numpy as np\n",
    "samples = [\"The cat sat on the mat.\", \"The dog ate my homework.\"]\n",
    "token_index = {}\n",
    "for sample in samples:\n",
    "    for word in sample.split():\n",
    "        if word not in token_index:\n",
    "            token_index[word] = len(token_index) +1 # 为每一个单词分配一个唯一的整数索引 没有0索引\n",
    "max_length = 10 # 只考虑样本的前十个单词\n",
    "results = np.zeros(shape=(len(samples), max_length, max(token_index.values())+1)) # 创建一个三维的零矩阵\n",
    "for i, sample in enumerate(samples):\n",
    "    for j, word in list(enumerate(sample.split()))[:max_length]:\n",
    "        index = token_index.get(word)\n",
    "        results[i,j,index] = 1 # 将单词对应的地方索引改为1\n",
    "\n",
    "print(results)\n"
   ],
   "outputs": [
    {
     "name": "stdout",
     "output_type": "stream",
     "text": [
      "[[[0. 1. 0. 0. 0. 0. 0. 0. 0. 0. 0.]\n",
      "  [0. 0. 1. 0. 0. 0. 0. 0. 0. 0. 0.]\n",
      "  [0. 0. 0. 1. 0. 0. 0. 0. 0. 0. 0.]\n",
      "  [0. 0. 0. 0. 1. 0. 0. 0. 0. 0. 0.]\n",
      "  [0. 0. 0. 0. 0. 1. 0. 0. 0. 0. 0.]\n",
      "  [0. 0. 0. 0. 0. 0. 1. 0. 0. 0. 0.]\n",
      "  [0. 0. 0. 0. 0. 0. 0. 0. 0. 0. 0.]\n",
      "  [0. 0. 0. 0. 0. 0. 0. 0. 0. 0. 0.]\n",
      "  [0. 0. 0. 0. 0. 0. 0. 0. 0. 0. 0.]\n",
      "  [0. 0. 0. 0. 0. 0. 0. 0. 0. 0. 0.]]\n",
      "\n",
      " [[0. 1. 0. 0. 0. 0. 0. 0. 0. 0. 0.]\n",
      "  [0. 0. 0. 0. 0. 0. 0. 1. 0. 0. 0.]\n",
      "  [0. 0. 0. 0. 0. 0. 0. 0. 1. 0. 0.]\n",
      "  [0. 0. 0. 0. 0. 0. 0. 0. 0. 1. 0.]\n",
      "  [0. 0. 0. 0. 0. 0. 0. 0. 0. 0. 1.]\n",
      "  [0. 0. 0. 0. 0. 0. 0. 0. 0. 0. 0.]\n",
      "  [0. 0. 0. 0. 0. 0. 0. 0. 0. 0. 0.]\n",
      "  [0. 0. 0. 0. 0. 0. 0. 0. 0. 0. 0.]\n",
      "  [0. 0. 0. 0. 0. 0. 0. 0. 0. 0. 0.]\n",
      "  [0. 0. 0. 0. 0. 0. 0. 0. 0. 0. 0.]]]\n"
     ]
    }
   ],
   "execution_count": 1
  },
  {
   "metadata": {
    "ExecuteTime": {
     "end_time": "2025-09-15T12:55:10.098947Z",
     "start_time": "2025-09-15T12:55:10.090931Z"
    }
   },
   "cell_type": "code",
   "source": [
    "# 使用Keras实现单词级别的one-hot编码\n",
    "from keras.preprocessing.text import Tokenizer\n",
    "samples = [\"The cat sat on the mat.\", \"The dog ate my homework.\"]\n",
    "tokenizer = Tokenizer(num_words=1000) # 只考虑前1000个最常见的单词\n",
    "tokenizer.fit_on_texts(samples) # 将每个单词映射到一个整数索引\n",
    "sequences = tokenizer.texts_to_sequences(samples) # 将每个句子转化为整数索组成的列表\n",
    "one_hot_results = tokenizer.texts_to_matrix(samples, mode = \"binary\")\n",
    "word_index = tokenizer.word_index # 获取单词索引字典\n",
    "print(one_hot_results)"
   ],
   "id": "bc28d7d9d8ad959f",
   "outputs": [
    {
     "name": "stdout",
     "output_type": "stream",
     "text": [
      "[[0. 1. 1. ... 0. 0. 0.]\n",
      " [0. 1. 0. ... 0. 0. 0.]]\n"
     ]
    }
   ],
   "execution_count": 3
  },
  {
   "metadata": {},
   "cell_type": "code",
   "outputs": [],
   "execution_count": null,
   "source": [
    "# 使用散列技巧实现one-hot编码\n",
    "samples = [\"The cat sat on the mat.\", \"The dog ate my homework.\"]\n",
    "dimensionality = 1000 # 将单词保存为长度为1000的向量\n",
    "max_length = 10\n",
    "\n",
    "# 创建一个零矩阵\n",
    "results = np.zeros((len(samples), max_length, dimensionality))\n",
    "for i, sample in enumerate(samples):\n",
    "    for j, word in list(enumerate(sample.split()))[:max_length]:\n",
    "        index = abs(hash(word)) % dimensionality # 计算单词的散列值，并将其映射到0-999之间\n",
    "        results[i,j,index] = 1 # 将单词对应的地方索引改为1\n"
   ],
   "id": "d99055135110d3c0"
  }
 ],
 "metadata": {
  "kernelspec": {
   "display_name": "Python 3",
   "language": "python",
   "name": "python3"
  },
  "language_info": {
   "codemirror_mode": {
    "name": "ipython",
    "version": 2
   },
   "file_extension": ".py",
   "mimetype": "text/x-python",
   "name": "python",
   "nbconvert_exporter": "python",
   "pygments_lexer": "ipython2",
   "version": "2.7.6"
  }
 },
 "nbformat": 4,
 "nbformat_minor": 5
}
